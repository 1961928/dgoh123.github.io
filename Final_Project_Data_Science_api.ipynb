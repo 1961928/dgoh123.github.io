{
  "nbformat": 4,
  "nbformat_minor": 0,
  "metadata": {
    "colab": {
      "provenance": [],
      "authorship_tag": "ABX9TyNf17EcuxMlIror7ov5AtWS",
      "include_colab_link": true
    },
    "kernelspec": {
      "name": "python3",
      "display_name": "Python 3"
    },
    "language_info": {
      "name": "python"
    }
  },
  "cells": [
    {
      "cell_type": "markdown",
      "metadata": {
        "id": "view-in-github",
        "colab_type": "text"
      },
      "source": [
        "<a href=\"https://colab.research.google.com/github/1961928/dgoh123.github.io/blob/main/Final_Project_Data_Science_api.ipynb\" target=\"_parent\"><img src=\"https://colab.research.google.com/assets/colab-badge.svg\" alt=\"Open In Colab\"/></a>"
      ]
    },
    {
      "cell_type": "code",
      "source": [
        "!pip install fredapi"
      ],
      "metadata": {
        "colab": {
          "base_uri": "https://localhost:8080/"
        },
        "id": "8nIA721iftwa",
        "outputId": "104efb0d-7356-4608-e4c1-20d0678d1dd6"
      },
      "execution_count": null,
      "outputs": [
        {
          "output_type": "stream",
          "name": "stdout",
          "text": [
            "Looking in indexes: https://pypi.org/simple, https://us-python.pkg.dev/colab-wheels/public/simple/\n",
            "Collecting fredapi\n",
            "  Downloading fredapi-0.5.0-py3-none-any.whl (11 kB)\n",
            "Requirement already satisfied: pandas in /usr/local/lib/python3.8/dist-packages (from fredapi) (1.3.5)\n",
            "Requirement already satisfied: python-dateutil>=2.7.3 in /usr/local/lib/python3.8/dist-packages (from pandas->fredapi) (2.8.2)\n",
            "Requirement already satisfied: numpy>=1.17.3 in /usr/local/lib/python3.8/dist-packages (from pandas->fredapi) (1.21.6)\n",
            "Requirement already satisfied: pytz>=2017.3 in /usr/local/lib/python3.8/dist-packages (from pandas->fredapi) (2022.6)\n",
            "Requirement already satisfied: six>=1.5 in /usr/local/lib/python3.8/dist-packages (from python-dateutil>=2.7.3->pandas->fredapi) (1.15.0)\n",
            "Installing collected packages: fredapi\n",
            "Successfully installed fredapi-0.5.0\n"
          ]
        }
      ]
    },
    {
      "cell_type": "markdown",
      "source": [
        "Importing fredapi to pull in data from FRED"
      ],
      "metadata": {
        "id": "gF-ondmlxiXd"
      }
    },
    {
      "cell_type": "code",
      "source": [
        "import fredapi\n",
        "from fredapi import Fred"
      ],
      "metadata": {
        "id": "LPEtKmURhz1L"
      },
      "execution_count": null,
      "outputs": []
    },
    {
      "cell_type": "markdown",
      "source": [
        "Getting the FRED api key and getting the dataset I want using get_series. I repeat this for each of the datasets I want to extract from FRED."
      ],
      "metadata": {
        "id": "f_ISjmhMyEDU"
      }
    },
    {
      "cell_type": "code",
      "source": [
        "fred = Fred(api_key=\"60cd01a64abae81138d031f854c6bdaa\")\n",
        "cpi = fred.get_series('CPIAUCSL')\n",
        "\n",
        "\n",
        "cpi.name = \"cpi\"\n",
        "\n",
        "cpi.head()"
      ],
      "metadata": {
        "colab": {
          "base_uri": "https://localhost:8080/"
        },
        "id": "SMWuGxHBdmxr",
        "outputId": "4f41ca9e-5213-4412-f05f-16c3c9525dc1"
      },
      "execution_count": null,
      "outputs": [
        {
          "output_type": "execute_result",
          "data": {
            "text/plain": [
              "1947-01-01    21.48\n",
              "1947-02-01    21.62\n",
              "1947-03-01    22.00\n",
              "1947-04-01    22.00\n",
              "1947-05-01    21.95\n",
              "Name: cpi, dtype: float64"
            ]
          },
          "metadata": {},
          "execution_count": 3
        }
      ]
    },
    {
      "cell_type": "code",
      "source": [
        "fred = Fred(api_key=\"60cd01a64abae81138d031f854c6bdaa\")\n",
        "price_index = fred.get_series('USSTHPI')\n",
        "price_index.name = \"price_index\"\n",
        "\n",
        "price_index"
      ],
      "metadata": {
        "colab": {
          "base_uri": "https://localhost:8080/"
        },
        "id": "Xq6hi_IkhNLw",
        "outputId": "db97ad49-e446-4ce7-ee3b-5208684e760b"
      },
      "execution_count": null,
      "outputs": [
        {
          "output_type": "execute_result",
          "data": {
            "text/plain": [
              "1975-01-01     60.04\n",
              "1975-04-01     60.99\n",
              "1975-07-01     61.17\n",
              "1975-10-01     62.24\n",
              "1976-01-01     62.87\n",
              "               ...  \n",
              "2021-07-01    539.48\n",
              "2021-10-01    558.11\n",
              "2022-01-01    578.70\n",
              "2022-04-01    618.37\n",
              "2022-07-01    628.88\n",
              "Name: price_index, Length: 191, dtype: float64"
            ]
          },
          "metadata": {},
          "execution_count": 4
        }
      ]
    },
    {
      "cell_type": "code",
      "source": [
        "fred = Fred(api_key=\"60cd01a64abae81138d031f854c6bdaa\")\n",
        "gdp = fred.get_series('GDP')\n",
        "gdp.name = \"gdp\""
      ],
      "metadata": {
        "id": "ulGbGy0zzNeV"
      },
      "execution_count": null,
      "outputs": []
    },
    {
      "cell_type": "code",
      "source": [
        "fred = Fred(api_key=\"60cd01a64abae81138d031f854c6bdaa\")\n",
        "real_income = fred.get_series('MEHOINUSA672N')\n",
        "real_income.name = \"real_income\""
      ],
      "metadata": {
        "id": "szdEOlp7zbMj"
      },
      "execution_count": null,
      "outputs": []
    },
    {
      "cell_type": "code",
      "source": [
        "fred = Fred(api_key=\"60cd01a64abae81138d031f854c6bdaa\")\n",
        "vac_rate = fred.get_series('RRVRUSQ156N')\n",
        "vac_rate.name = \"vac_rate\""
      ],
      "metadata": {
        "id": "CCNmmhBCzp4s"
      },
      "execution_count": null,
      "outputs": []
    },
    {
      "cell_type": "code",
      "source": [
        "fred = Fred(api_key=\"60cd01a64abae81138d031f854c6bdaa\")\n",
        "house_supply = fred.get_series('MSACSR')\n",
        "house_supply.name = \"house_supply\""
      ],
      "metadata": {
        "id": "jtUsS_k9z6o-"
      },
      "execution_count": null,
      "outputs": []
    },
    {
      "cell_type": "code",
      "source": [
        "fred = Fred(api_key=\"60cd01a64abae81138d031f854c6bdaa\")\n",
        "employment = fred.get_series('LNU02000000')\n",
        "employment.name = \"employment\""
      ],
      "metadata": {
        "id": "LGhquKyS0JAD"
      },
      "execution_count": null,
      "outputs": []
    },
    {
      "cell_type": "code",
      "source": [
        "fred = Fred(api_key=\"60cd01a64abae81138d031f854c6bdaa\")\n",
        "cons_sent = fred.get_series('UMCSENT')\n",
        "cons_sent.name = \"cons_sent\""
      ],
      "metadata": {
        "id": "FKgHFVUx0dtE"
      },
      "execution_count": null,
      "outputs": []
    },
    {
      "cell_type": "code",
      "source": [
        "fred = Fred(api_key=\"60cd01a64abae81138d031f854c6bdaa\")\n",
        "mortgage_rate = fred.get_series('MORTGAGE30US')\n",
        "mortgage_rate.name = \"mortgage_rate\""
      ],
      "metadata": {
        "id": "QuxKJkwc03z7"
      },
      "execution_count": null,
      "outputs": []
    },
    {
      "cell_type": "markdown",
      "source": [
        "Converting the data extracted from FRED to a csv file using to_csv. These csv files will be used for the machine learning model."
      ],
      "metadata": {
        "id": "kzr9hLL1ytMe"
      }
    },
    {
      "cell_type": "code",
      "source": [
        "cpi.to_csv('CPI.csv')\n",
        "gdp.to_csv('GDP.csv')\n",
        "real_income.to_csv('real_income.csv')\n",
        "vac_rate.to_csv('rent_vac.csv')\n",
        "house_supply.to_csv('house_supply.csv')\n",
        "employment.to_csv('employment.csv')\n",
        "cons_sent.to_csv('cons_conf.csv')\n",
        "mortgage_rate.to_csv('mortgage_rate.csv')"
      ],
      "metadata": {
        "id": "5alVLkeY1JQR"
      },
      "execution_count": null,
      "outputs": []
    },
    {
      "cell_type": "markdown",
      "source": [
        "import pandas to help me work with csv files in python"
      ],
      "metadata": {
        "id": "7dAwvMDB1dql"
      }
    },
    {
      "cell_type": "code",
      "source": [
        "import pandas as pd"
      ],
      "metadata": {
        "id": "U5Yj5SdqiOeo"
      },
      "execution_count": null,
      "outputs": []
    },
    {
      "cell_type": "markdown",
      "source": [
        "\n",
        "Using pd.merge to merge the cpi data and price_index data. This data frame will be used to create the scatter plot and line graphs."
      ],
      "metadata": {
        "id": "J10EIkQ40D2i"
      }
    },
    {
      "cell_type": "code",
      "source": [
        "df = pd.merge(cpi, price_index, left_index=True, right_index=True)"
      ],
      "metadata": {
        "id": "BHTNGQTtiVgV"
      },
      "execution_count": null,
      "outputs": []
    },
    {
      "cell_type": "code",
      "source": [
        "df"
      ],
      "metadata": {
        "colab": {
          "base_uri": "https://localhost:8080/",
          "height": 423
        },
        "id": "ckDhvH6niirL",
        "outputId": "0eaaeddc-6d9d-4c1d-c855-e80d6f17b4b7"
      },
      "execution_count": null,
      "outputs": [
        {
          "output_type": "execute_result",
          "data": {
            "text/plain": [
              "                cpi  price_index\n",
              "1975-01-01   52.300        60.04\n",
              "1975-04-01   53.000        60.99\n",
              "1975-07-01   54.000        61.17\n",
              "1975-10-01   54.900        62.24\n",
              "1976-01-01   55.800        62.87\n",
              "...             ...          ...\n",
              "2021-07-01  272.184       539.48\n",
              "2021-10-01  276.590       558.11\n",
              "2022-01-01  281.933       578.70\n",
              "2022-04-01  288.663       618.37\n",
              "2022-07-01  295.271       628.88\n",
              "\n",
              "[191 rows x 2 columns]"
            ],
            "text/html": [
              "\n",
              "  <div id=\"df-5480ea12-b993-434a-be5f-7ba84fe7133b\">\n",
              "    <div class=\"colab-df-container\">\n",
              "      <div>\n",
              "<style scoped>\n",
              "    .dataframe tbody tr th:only-of-type {\n",
              "        vertical-align: middle;\n",
              "    }\n",
              "\n",
              "    .dataframe tbody tr th {\n",
              "        vertical-align: top;\n",
              "    }\n",
              "\n",
              "    .dataframe thead th {\n",
              "        text-align: right;\n",
              "    }\n",
              "</style>\n",
              "<table border=\"1\" class=\"dataframe\">\n",
              "  <thead>\n",
              "    <tr style=\"text-align: right;\">\n",
              "      <th></th>\n",
              "      <th>cpi</th>\n",
              "      <th>price_index</th>\n",
              "    </tr>\n",
              "  </thead>\n",
              "  <tbody>\n",
              "    <tr>\n",
              "      <th>1975-01-01</th>\n",
              "      <td>52.300</td>\n",
              "      <td>60.04</td>\n",
              "    </tr>\n",
              "    <tr>\n",
              "      <th>1975-04-01</th>\n",
              "      <td>53.000</td>\n",
              "      <td>60.99</td>\n",
              "    </tr>\n",
              "    <tr>\n",
              "      <th>1975-07-01</th>\n",
              "      <td>54.000</td>\n",
              "      <td>61.17</td>\n",
              "    </tr>\n",
              "    <tr>\n",
              "      <th>1975-10-01</th>\n",
              "      <td>54.900</td>\n",
              "      <td>62.24</td>\n",
              "    </tr>\n",
              "    <tr>\n",
              "      <th>1976-01-01</th>\n",
              "      <td>55.800</td>\n",
              "      <td>62.87</td>\n",
              "    </tr>\n",
              "    <tr>\n",
              "      <th>...</th>\n",
              "      <td>...</td>\n",
              "      <td>...</td>\n",
              "    </tr>\n",
              "    <tr>\n",
              "      <th>2021-07-01</th>\n",
              "      <td>272.184</td>\n",
              "      <td>539.48</td>\n",
              "    </tr>\n",
              "    <tr>\n",
              "      <th>2021-10-01</th>\n",
              "      <td>276.590</td>\n",
              "      <td>558.11</td>\n",
              "    </tr>\n",
              "    <tr>\n",
              "      <th>2022-01-01</th>\n",
              "      <td>281.933</td>\n",
              "      <td>578.70</td>\n",
              "    </tr>\n",
              "    <tr>\n",
              "      <th>2022-04-01</th>\n",
              "      <td>288.663</td>\n",
              "      <td>618.37</td>\n",
              "    </tr>\n",
              "    <tr>\n",
              "      <th>2022-07-01</th>\n",
              "      <td>295.271</td>\n",
              "      <td>628.88</td>\n",
              "    </tr>\n",
              "  </tbody>\n",
              "</table>\n",
              "<p>191 rows × 2 columns</p>\n",
              "</div>\n",
              "      <button class=\"colab-df-convert\" onclick=\"convertToInteractive('df-5480ea12-b993-434a-be5f-7ba84fe7133b')\"\n",
              "              title=\"Convert this dataframe to an interactive table.\"\n",
              "              style=\"display:none;\">\n",
              "        \n",
              "  <svg xmlns=\"http://www.w3.org/2000/svg\" height=\"24px\"viewBox=\"0 0 24 24\"\n",
              "       width=\"24px\">\n",
              "    <path d=\"M0 0h24v24H0V0z\" fill=\"none\"/>\n",
              "    <path d=\"M18.56 5.44l.94 2.06.94-2.06 2.06-.94-2.06-.94-.94-2.06-.94 2.06-2.06.94zm-11 1L8.5 8.5l.94-2.06 2.06-.94-2.06-.94L8.5 2.5l-.94 2.06-2.06.94zm10 10l.94 2.06.94-2.06 2.06-.94-2.06-.94-.94-2.06-.94 2.06-2.06.94z\"/><path d=\"M17.41 7.96l-1.37-1.37c-.4-.4-.92-.59-1.43-.59-.52 0-1.04.2-1.43.59L10.3 9.45l-7.72 7.72c-.78.78-.78 2.05 0 2.83L4 21.41c.39.39.9.59 1.41.59.51 0 1.02-.2 1.41-.59l7.78-7.78 2.81-2.81c.8-.78.8-2.07 0-2.86zM5.41 20L4 18.59l7.72-7.72 1.47 1.35L5.41 20z\"/>\n",
              "  </svg>\n",
              "      </button>\n",
              "      \n",
              "  <style>\n",
              "    .colab-df-container {\n",
              "      display:flex;\n",
              "      flex-wrap:wrap;\n",
              "      gap: 12px;\n",
              "    }\n",
              "\n",
              "    .colab-df-convert {\n",
              "      background-color: #E8F0FE;\n",
              "      border: none;\n",
              "      border-radius: 50%;\n",
              "      cursor: pointer;\n",
              "      display: none;\n",
              "      fill: #1967D2;\n",
              "      height: 32px;\n",
              "      padding: 0 0 0 0;\n",
              "      width: 32px;\n",
              "    }\n",
              "\n",
              "    .colab-df-convert:hover {\n",
              "      background-color: #E2EBFA;\n",
              "      box-shadow: 0px 1px 2px rgba(60, 64, 67, 0.3), 0px 1px 3px 1px rgba(60, 64, 67, 0.15);\n",
              "      fill: #174EA6;\n",
              "    }\n",
              "\n",
              "    [theme=dark] .colab-df-convert {\n",
              "      background-color: #3B4455;\n",
              "      fill: #D2E3FC;\n",
              "    }\n",
              "\n",
              "    [theme=dark] .colab-df-convert:hover {\n",
              "      background-color: #434B5C;\n",
              "      box-shadow: 0px 1px 3px 1px rgba(0, 0, 0, 0.15);\n",
              "      filter: drop-shadow(0px 1px 2px rgba(0, 0, 0, 0.3));\n",
              "      fill: #FFFFFF;\n",
              "    }\n",
              "  </style>\n",
              "\n",
              "      <script>\n",
              "        const buttonEl =\n",
              "          document.querySelector('#df-5480ea12-b993-434a-be5f-7ba84fe7133b button.colab-df-convert');\n",
              "        buttonEl.style.display =\n",
              "          google.colab.kernel.accessAllowed ? 'block' : 'none';\n",
              "\n",
              "        async function convertToInteractive(key) {\n",
              "          const element = document.querySelector('#df-5480ea12-b993-434a-be5f-7ba84fe7133b');\n",
              "          const dataTable =\n",
              "            await google.colab.kernel.invokeFunction('convertToInteractive',\n",
              "                                                     [key], {});\n",
              "          if (!dataTable) return;\n",
              "\n",
              "          const docLinkHtml = 'Like what you see? Visit the ' +\n",
              "            '<a target=\"_blank\" href=https://colab.research.google.com/notebooks/data_table.ipynb>data table notebook</a>'\n",
              "            + ' to learn more about interactive tables.';\n",
              "          element.innerHTML = '';\n",
              "          dataTable['output_type'] = 'display_data';\n",
              "          await google.colab.output.renderOutput(dataTable, element);\n",
              "          const docLink = document.createElement('div');\n",
              "          docLink.innerHTML = docLinkHtml;\n",
              "          element.appendChild(docLink);\n",
              "        }\n",
              "      </script>\n",
              "    </div>\n",
              "  </div>\n",
              "  "
            ]
          },
          "metadata": {},
          "execution_count": 24
        }
      ]
    },
    {
      "cell_type": "markdown",
      "source": [
        "Converting the merged cpi and price_index data frame to a csv file."
      ],
      "metadata": {
        "id": "MPySnOyz0coN"
      }
    },
    {
      "cell_type": "code",
      "source": [
        "df.to_csv('cpi&price_index1.csv')"
      ],
      "metadata": {
        "id": "8wra9fOCisgG"
      },
      "execution_count": null,
      "outputs": []
    },
    {
      "cell_type": "code",
      "source": [
        "fred = Fred(api_key=\"60cd01a64abae81138d031f854c6bdaa\")\n",
        "lst = ['CPI', 'GDP', 'USSTHPI']\n",
        "\n",
        "for i in lst:\n",
        "  i = fred.get_series(lst)\n",
        "  i.name = i\n",
        "  i.to_csv(i)\n"
      ],
      "metadata": {
        "id": "M-MbmJuhiFt8"
      },
      "execution_count": null,
      "outputs": []
    }
  ]
}